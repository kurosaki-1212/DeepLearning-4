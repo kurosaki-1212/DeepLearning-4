{
 "cells": [
  {
   "cell_type": "markdown",
   "id": "da554d35",
   "metadata": {},
   "source": [
    "# 何も確認せずにまず以下を実行してみましょう！！"
   ]
  },
  {
   "cell_type": "code",
   "execution_count": 3,
   "id": "11d4b81f",
   "metadata": {},
   "outputs": [],
   "source": [
    "import cv2\n",
    "import numpy as np\n",
    "\n",
    "# カメラからの入力を開始\n",
    "cap = cv2.VideoCapture(0)\n",
    "# 動画書き出し用のオブジェクトを生成\n",
    "# 'm','p','4','v'は、動画コーデック(＝動画の圧縮形式)\n",
    "fmt = cv2.VideoWriter_fourcc('m','p','4','v')\n",
    "# 動画の再生速度(fps)\n",
    "fps = 20.0\n",
    "# 解像度\n",
    "size = (640, 360)\n",
    "# 動画ファイルとして保存するために VideoWriter 型のオブジェクトを生成\n",
    "# cv2.VideoWriter(ファイル名、コーデック、再生速度、大きさ)\n",
    "writer = cv2.VideoWriter('test.m4v', fmt, fps, size)\n",
    "\n",
    "while True:\n",
    "    # 成功/失敗、読み込んだ画像\n",
    "    _, frame = cap.read() # 動画を入力\n",
    "    # 画像を縮小(640, 360)\n",
    "    frame = cv2.resize(frame, size)\n",
    "    # 画像を出力 動画として書き出す1コマ分の静止画（frame）を書き込む\n",
    "    writer.write(frame)\n",
    "    # ウィンドウ上にも表示\n",
    "    cv2.imshow('frame', frame)\n",
    "    # Enterキーが押されたらループを抜ける\n",
    "    if cv2.waitKey(1) == 13: break\n",
    "    \n",
    "writer.release()\n",
    "cap.release()\n",
    "cv2.destroyAllWindows() # ウィンドウを破棄\n"
   ]
  },
  {
   "cell_type": "code",
   "execution_count": 6,
   "id": "8ccd2cbc",
   "metadata": {},
   "outputs": [
    {
     "ename": "FileExistsError",
     "evalue": "[WinError 183] 既に存在するファイルを作成することはできません。: './exfish'",
     "output_type": "error",
     "traceback": [
      "\u001b[1;31m---------------------------------------------------------------------------\u001b[0m",
      "\u001b[1;31mFileExistsError\u001b[0m                           Traceback (most recent call last)",
      "Input \u001b[1;32mIn [6]\u001b[0m, in \u001b[0;36m<cell line: 9>\u001b[1;34m()\u001b[0m\n\u001b[0;32m      6\u001b[0m save_dir \u001b[38;5;241m=\u001b[39m \u001b[38;5;124m\"\u001b[39m\u001b[38;5;124m./exfish\u001b[39m\u001b[38;5;124m\"\u001b[39m \u001b[38;5;66;03m# 保存ディレクトリ名\u001b[39;00m\n\u001b[0;32m      8\u001b[0m \u001b[38;5;66;03m# exfishフォルダが作成済みの場合エラーになってしまうので注意\u001b[39;00m\n\u001b[1;32m----> 9\u001b[0m \u001b[43mos\u001b[49m\u001b[38;5;241;43m.\u001b[39;49m\u001b[43mmkdir\u001b[49m\u001b[43m(\u001b[49m\u001b[43msave_dir\u001b[49m\u001b[43m)\u001b[49m \u001b[38;5;66;03m# ディレクトリを作成\u001b[39;00m\n\u001b[0;32m     11\u001b[0m \u001b[38;5;66;03m# 動画ファイルから入力を開始 --- (*1)\u001b[39;00m\n\u001b[0;32m     12\u001b[0m cap \u001b[38;5;241m=\u001b[39m cv2\u001b[38;5;241m.\u001b[39mVideoCapture(\u001b[38;5;124m\"\u001b[39m\u001b[38;5;124mfish.mp4\u001b[39m\u001b[38;5;124m\"\u001b[39m)\n",
      "\u001b[1;31mFileExistsError\u001b[0m: [WinError 183] 既に存在するファイルを作成することはできません。: './exfish'"
     ]
    }
   ],
   "source": [
    "# fishvideo_extract_diff.py\n",
    "import cv2, os\n",
    "\n",
    "img_last = None # 前回の画像\n",
    "no = 0 # 画像の枚数\n",
    "save_dir = \"./exfish\" # 保存ディレクトリ名\n",
    "\n",
    "# exfishフォルダが作成済みの場合エラーになってしまうので注意\n",
    "os.mkdir(save_dir) # ディレクトリを作成\n",
    "\n",
    "# 動画ファイルから入力を開始\n",
    "cap = cv2.VideoCapture(\"fish.mp4\")\n",
    "while True:\n",
    "    # 画像を取得\n",
    "    is_ok, frame = cap.read()\n",
    "    # is_okにはread()の結果が入っていて、Trueなら正常、Falseなら異常\n",
    "    # not(is_ok==True):break という意味\n",
    "    if not is_ok: break\n",
    "    frame = cv2.resize(frame, (640, 360))\n",
    "    # 白黒画像に変換\n",
    "    gray = cv2.cvtColor(frame, cv2.COLOR_BGR2GRAY)\n",
    "    gray = cv2.GaussianBlur(gray, (15, 15), 0)\n",
    "    img_b = cv2.threshold(gray, 127, 255, cv2.THRESH_BINARY)[1]\n",
    "    # 差分を確認する\n",
    "    if not img_last is None:\n",
    "        #absdiffは２枚の画像の差分の絶対値を取得する      \n",
    "        # 前のコマと今のコマを比較する\n",
    "        frame_diff = cv2.absdiff(img_last, img_b)\n",
    "        cnts = cv2.findContours(frame_diff, \n",
    "            cv2.RETR_EXTERNAL,\n",
    "            cv2.CHAIN_APPROX_SIMPLE)[0]\n",
    "        # 差分があった領域をファイルに出力\n",
    "        for pt in cnts:\n",
    "            x, y, w, h = cv2.boundingRect(pt)\n",
    "            if w < 100 or w > 500: continue # ノイズを除去\n",
    "            # 抽出した領域を画像として保存\n",
    "            imgex = frame[y:y+h, x:x+w]\n",
    "            # ファイル名の相対パス\n",
    "            outfile = save_dir + \"/\" + str(no) + \".jpg\"\n",
    "            # 　　　　　　　　　　↓切り出して変化があった部分\n",
    "            cv2.imwrite(outfile, imgex)\n",
    "            no += 1\n",
    "    img_last = img_b\n",
    "cap.release()\n",
    "print(\"ok\")\n"
   ]
  },
  {
   "cell_type": "markdown",
   "id": "3771e672",
   "metadata": {},
   "source": [
    "## glob について調べよう\n",
    "\n",
    "https://note.nkmk.me/python-glob-usage/"
   ]
  },
  {
   "cell_type": "code",
   "execution_count": 1,
   "id": "729bfc1d",
   "metadata": {},
   "outputs": [
    {
     "name": "stdout",
     "output_type": "stream",
     "text": [
      "0.9411764705882353\n"
     ]
    }
   ],
   "source": [
    "# fish_train.py\n",
    "import cv2\n",
    "import os, glob, pickle\n",
    "from sklearn.model_selection import train_test_split\n",
    "from sklearn import datasets, metrics\n",
    "from sklearn.ensemble import RandomForestClassifier\n",
    "from sklearn.metrics import accuracy_score\n",
    "\n",
    "# 画像の学習サイズやパスを指定\n",
    "image_size = (64, 32)\n",
    "\n",
    "# 実行中のフォルダのフルパス\n",
    "# path = os.path.dirname(os.path.abspath(__file__))\n",
    "# \\→/に変更して自分の実行中のフォルダのフルパスをpathに代入する\n",
    "# 例）\n",
    "path = 'C:\\\\Users\\\\k_kurosaki\\\\AIFW2\\\\0601'\n",
    "\n",
    "path_fish = path + '/fish'\n",
    "path_nofish = path + '/nofish'\n",
    "x = [] # 画像データ\n",
    "y = [] # ラベルデータ\n",
    "\n",
    "# 画像データを読み込んで配列に追加\n",
    "def read_dir(path, label):\n",
    "    # glob.glob(引数)：引数のパスの中から、条件に合致するファイルを全部持ってくる\n",
    "    # *(ワイルドカード)：1文字以上の文字列(どんな文字でもok)\n",
    "    files = glob.glob(path + \"/*.jpg\")\n",
    "    for f in files:\n",
    "        img = cv2.imread(f)\n",
    "        img = cv2.resize(img, image_size)\n",
    "        img_data = img.reshape(-1, ) # 一次元に展開\n",
    "        # x：特徴量、y：正解データ\n",
    "        x.append(img_data)\n",
    "        y.append(label)\n",
    "\n",
    "# 画像データを読み込む\n",
    "read_dir(path_nofish, 0)\n",
    "read_dir(path_fish, 1)\n",
    "\n",
    "# データを学習用とテスト用に分割する\n",
    "x_train, x_test, y_train, y_test = train_test_split(x, y, test_size=0.2)\n",
    "\n",
    "# データを学習\n",
    "clf = RandomForestClassifier()\n",
    "clf.fit(x_train, y_train)\n",
    "\n",
    "# 精度の確認\n",
    "y_pred = clf.predict(x_test)\n",
    "print(accuracy_score(y_test, y_pred))\n",
    "\n",
    "# データを保存\n",
    "with open(\"fish.pkl\", \"wb\") as fp:\n",
    "  pickle.dump(clf, fp)"
   ]
  },
  {
   "cell_type": "code",
   "execution_count": null,
   "id": "e19d9b35",
   "metadata": {},
   "outputs": [],
   "source": []
  }
 ],
 "metadata": {
  "kernelspec": {
   "display_name": "Python 3 (ipykernel)",
   "language": "python",
   "name": "python3"
  },
  "language_info": {
   "codemirror_mode": {
    "name": "ipython",
    "version": 3
   },
   "file_extension": ".py",
   "mimetype": "text/x-python",
   "name": "python",
   "nbconvert_exporter": "python",
   "pygments_lexer": "ipython3",
   "version": "3.9.12"
  }
 },
 "nbformat": 4,
 "nbformat_minor": 5
}
